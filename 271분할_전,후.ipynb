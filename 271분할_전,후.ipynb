{
 "cells": [
  {
   "cell_type": "markdown",
   "metadata": {},
   "source": [
    "# 버스 노선 확인 \n",
    "\n",
    "- 271 A,B 나뉘기 전/후 비교\n",
    "- 2020.03.20기준으로 분할이 되었음\n",
    "- 따라서 2020.04와 2019.04를 비교해보겠습니다.  \n",
    "- 하지만, 코로나로 인해 2020년도의 승객이 줄었을 가능성으로 인해 2020.02와 2020.04도 비교해보겠습니다."
   ]
  },
  {
   "cell_type": "code",
   "execution_count": 35,
   "metadata": {},
   "outputs": [],
   "source": [
    "import warnings\n",
    "warnings.filterwarnings(\"ignore\", category=FutureWarning)\n",
    "import pandas as pd\n",
    "\n",
    "import numpy as np\n",
    "import matplotlib.pyplot as plt"
   ]
  },
  {
   "cell_type": "code",
   "execution_count": 2,
   "metadata": {},
   "outputs": [],
   "source": [
    "# 윈도우의 한글 폰트 설정\n",
    "plt.rc('font', family = 'Malgun Gothic')\n",
    "\n",
    "# 시각화 그래프가 노트북 안에 보이게 하기\n",
    "%matplotlib inline\n",
    "from IPython.display import set_matplotlib_formats\n",
    "set_matplotlib_formats('retina')"
   ]
  },
  {
   "cell_type": "code",
   "execution_count": 5,
   "metadata": {},
   "outputs": [],
   "source": [
    "# 서울시 버스노선별 정류장별 시간대별 승하차 인원 정보 (12월)\n",
    "# url : http://data.seoul.go.kr/dataList/OA-12912/S/1/datasetView.do\n",
    "df_1904 = pd.read_csv('./data/BUS_STATION_BOARDING_MONTH_201904.csv',low_memory = False,encoding = 'EUC-KR')\n",
    "df_2004 = pd.read_csv('./data/BUS_STATION_BOARDING_MONTH_202004.csv',low_memory = False,encoding = 'EUC-KR')\n",
    "df_2002 = pd.read_csv('./data/BUS_STATION_BOARDING_MONTH_202002.csv',low_memory = False,encoding = 'EUC-KR')\n"
   ]
  },
  {
   "cell_type": "code",
   "execution_count": 8,
   "metadata": {},
   "outputs": [
    {
     "data": {
      "text/plain": [
       "(Index(['사용일자', '노선번호', '노선명', '버스정류장ARS번호', '역명', '승차총승객수', '하차총승객수', '등록일자'], dtype='object'),\n",
       " Index(['사용일자', '노선번호', '노선명', '버스정류장ARS번호', '역명', '승차총승객수', '하차총승객수', '등록일자'], dtype='object'),\n",
       " Index(['사용일자', '노선번호', '노선명', '버스정류장ARS번호', '역명', '승차총승객수', '하차총승객수', '등록일자'], dtype='object'))"
      ]
     },
     "execution_count": 8,
     "metadata": {},
     "output_type": "execute_result"
    }
   ],
   "source": [
    "# columns 확인\n",
    "df_2004.columns ,df_2002.columns ,df_1904.columns "
   ]
  },
  {
   "cell_type": "code",
   "execution_count": 7,
   "metadata": {},
   "outputs": [
    {
     "data": {
      "text/plain": [
       "((1160178, 8), (1118047, 8), (1150902, 8))"
      ]
     },
     "execution_count": 7,
     "metadata": {},
     "output_type": "execute_result"
    }
   ],
   "source": [
    "# row개수 약 110여만개  \n",
    "df_2004.shape ,df_2002.shape,df_1904.shape"
   ]
  },
  {
   "cell_type": "code",
   "execution_count": 16,
   "metadata": {
    "scrolled": true
   },
   "outputs": [
    {
     "data": {
      "text/html": [
       "<div>\n",
       "<style scoped>\n",
       "    .dataframe tbody tr th:only-of-type {\n",
       "        vertical-align: middle;\n",
       "    }\n",
       "\n",
       "    .dataframe tbody tr th {\n",
       "        vertical-align: top;\n",
       "    }\n",
       "\n",
       "    .dataframe thead th {\n",
       "        text-align: right;\n",
       "    }\n",
       "</style>\n",
       "<table border=\"1\" class=\"dataframe\">\n",
       "  <thead>\n",
       "    <tr style=\"text-align: right;\">\n",
       "      <th></th>\n",
       "      <th>사용일자</th>\n",
       "      <th>노선번호</th>\n",
       "      <th>노선명</th>\n",
       "      <th>버스정류장ARS번호</th>\n",
       "      <th>역명</th>\n",
       "      <th>승차총승객수</th>\n",
       "      <th>하차총승객수</th>\n",
       "      <th>등록일자</th>\n",
       "    </tr>\n",
       "  </thead>\n",
       "  <tbody>\n",
       "    <tr>\n",
       "      <th>0</th>\n",
       "      <td>20200201</td>\n",
       "      <td>100</td>\n",
       "      <td>100번(하계동~용산구청)</td>\n",
       "      <td>11428</td>\n",
       "      <td>한성여객종점</td>\n",
       "      <td>14</td>\n",
       "      <td>4</td>\n",
       "      <td>20200204</td>\n",
       "    </tr>\n",
       "    <tr>\n",
       "      <th>1</th>\n",
       "      <td>20200201</td>\n",
       "      <td>100</td>\n",
       "      <td>100번(하계동~용산구청)</td>\n",
       "      <td>11387</td>\n",
       "      <td>노원평생학습관</td>\n",
       "      <td>7</td>\n",
       "      <td>0</td>\n",
       "      <td>20200204</td>\n",
       "    </tr>\n",
       "    <tr>\n",
       "      <th>2</th>\n",
       "      <td>20200201</td>\n",
       "      <td>100</td>\n",
       "      <td>100번(하계동~용산구청)</td>\n",
       "      <td>11373</td>\n",
       "      <td>중계역</td>\n",
       "      <td>27</td>\n",
       "      <td>2</td>\n",
       "      <td>20200204</td>\n",
       "    </tr>\n",
       "    <tr>\n",
       "      <th>3</th>\n",
       "      <td>20200201</td>\n",
       "      <td>100</td>\n",
       "      <td>100번(하계동~용산구청)</td>\n",
       "      <td>11381</td>\n",
       "      <td>중계목화아파트4단지</td>\n",
       "      <td>120</td>\n",
       "      <td>13</td>\n",
       "      <td>20200204</td>\n",
       "    </tr>\n",
       "    <tr>\n",
       "      <th>4</th>\n",
       "      <td>20200201</td>\n",
       "      <td>100</td>\n",
       "      <td>100번(하계동~용산구청)</td>\n",
       "      <td>11311</td>\n",
       "      <td>인덕대학</td>\n",
       "      <td>172</td>\n",
       "      <td>123</td>\n",
       "      <td>20200204</td>\n",
       "    </tr>\n",
       "    <tr>\n",
       "      <th>5</th>\n",
       "      <td>20200201</td>\n",
       "      <td>100</td>\n",
       "      <td>100번(하계동~용산구청)</td>\n",
       "      <td>01198</td>\n",
       "      <td>원남동</td>\n",
       "      <td>54</td>\n",
       "      <td>109</td>\n",
       "      <td>20200204</td>\n",
       "    </tr>\n",
       "    <tr>\n",
       "      <th>6</th>\n",
       "      <td>20200201</td>\n",
       "      <td>100</td>\n",
       "      <td>100번(하계동~용산구청)</td>\n",
       "      <td>03223</td>\n",
       "      <td>이촌동현대아파트</td>\n",
       "      <td>221</td>\n",
       "      <td>49</td>\n",
       "      <td>20200204</td>\n",
       "    </tr>\n",
       "    <tr>\n",
       "      <th>7</th>\n",
       "      <td>20200201</td>\n",
       "      <td>101</td>\n",
       "      <td>101번(화계사~동대문)</td>\n",
       "      <td>10210</td>\n",
       "      <td>쌍문동성원아파트</td>\n",
       "      <td>270</td>\n",
       "      <td>45</td>\n",
       "      <td>20200204</td>\n",
       "    </tr>\n",
       "    <tr>\n",
       "      <th>8</th>\n",
       "      <td>20200201</td>\n",
       "      <td>102</td>\n",
       "      <td>102번(상계동~동대문)</td>\n",
       "      <td>09153</td>\n",
       "      <td>번동사거리</td>\n",
       "      <td>143</td>\n",
       "      <td>148</td>\n",
       "      <td>20200204</td>\n",
       "    </tr>\n",
       "    <tr>\n",
       "      <th>9</th>\n",
       "      <td>20200201</td>\n",
       "      <td>106</td>\n",
       "      <td>106번(의정부~동대문)</td>\n",
       "      <td>61001</td>\n",
       "      <td>가능역.성베드로병원</td>\n",
       "      <td>12</td>\n",
       "      <td>166</td>\n",
       "      <td>20200204</td>\n",
       "    </tr>\n",
       "  </tbody>\n",
       "</table>\n",
       "</div>"
      ],
      "text/plain": [
       "       사용일자 노선번호             노선명 버스정류장ARS번호          역명  승차총승객수  하차총승객수  \\\n",
       "0  20200201  100  100번(하계동~용산구청)      11428      한성여객종점      14       4   \n",
       "1  20200201  100  100번(하계동~용산구청)      11387     노원평생학습관       7       0   \n",
       "2  20200201  100  100번(하계동~용산구청)      11373         중계역      27       2   \n",
       "3  20200201  100  100번(하계동~용산구청)      11381  중계목화아파트4단지     120      13   \n",
       "4  20200201  100  100번(하계동~용산구청)      11311        인덕대학     172     123   \n",
       "5  20200201  100  100번(하계동~용산구청)      01198         원남동      54     109   \n",
       "6  20200201  100  100번(하계동~용산구청)      03223    이촌동현대아파트     221      49   \n",
       "7  20200201  101   101번(화계사~동대문)      10210    쌍문동성원아파트     270      45   \n",
       "8  20200201  102   102번(상계동~동대문)      09153       번동사거리     143     148   \n",
       "9  20200201  106   106번(의정부~동대문)      61001  가능역.성베드로병원      12     166   \n",
       "\n",
       "       등록일자  \n",
       "0  20200204  \n",
       "1  20200204  \n",
       "2  20200204  \n",
       "3  20200204  \n",
       "4  20200204  \n",
       "5  20200204  \n",
       "6  20200204  \n",
       "7  20200204  \n",
       "8  20200204  \n",
       "9  20200204  "
      ]
     },
     "execution_count": 16,
     "metadata": {},
     "output_type": "execute_result"
    }
   ],
   "source": [
    "#일자, 노선번호, 각 정류소명에 따라 정렬이 되어있음을 확인\n",
    "df_1904.head(10)\n",
    "df_2002.head(10)\n",
    "df_2004.head(10)"
   ]
  },
  {
   "cell_type": "code",
   "execution_count": 23,
   "metadata": {
    "scrolled": true
   },
   "outputs": [
    {
     "data": {
      "text/plain": [
       "(621, 619, 614)"
      ]
     },
     "execution_count": 23,
     "metadata": {},
     "output_type": "execute_result"
    }
   ],
   "source": [
    "# unique사용해서 중복 제거한 버스 확인\n",
    "# 시간이 지나면서 버스가 증가했습니다.\n",
    "len(df_2004['노선번호'].unique()),len(df_2002['노선번호'].unique()) , len(df_1904['노선번호'].unique())"
   ]
  },
  {
   "cell_type": "code",
   "execution_count": 37,
   "metadata": {},
   "outputs": [
    {
     "name": "stdout",
     "output_type": "stream",
     "text": [
      "937,806\n"
     ]
    },
    {
     "name": "stderr",
     "output_type": "stream",
     "text": [
      "C:\\ProgramData\\Anaconda3\\lib\\site-packages\\ipykernel_launcher.py:3: SettingWithCopyWarning: \n",
      "A value is trying to be set on a copy of a slice from a DataFrame.\n",
      "Try using .loc[row_indexer,col_indexer] = value instead\n",
      "\n",
      "See the caveats in the documentation: https://pandas.pydata.org/pandas-docs/stable/user_guide/indexing.html#returning-a-view-versus-a-copy\n",
      "  This is separate from the ipykernel package so we can avoid doing imports until\n"
     ]
    }
   ],
   "source": [
    "# 분할 후 271A의 승객 수 \n",
    "df_2004_271A = df_2004[df_2004['노선번호']=='271A']\n",
    "df_2004_271A['총 승객수'] = df_2004_271A['승차총승객수']+df_2004_271A['하차총승객수'] \n",
    "print(format(df_2004_271A['총 승객수'].sum(),','))"
   ]
  },
  {
   "cell_type": "code",
   "execution_count": 38,
   "metadata": {},
   "outputs": [
    {
     "name": "stdout",
     "output_type": "stream",
     "text": [
      "253,730\n"
     ]
    },
    {
     "name": "stderr",
     "output_type": "stream",
     "text": [
      "C:\\ProgramData\\Anaconda3\\lib\\site-packages\\ipykernel_launcher.py:3: SettingWithCopyWarning: \n",
      "A value is trying to be set on a copy of a slice from a DataFrame.\n",
      "Try using .loc[row_indexer,col_indexer] = value instead\n",
      "\n",
      "See the caveats in the documentation: https://pandas.pydata.org/pandas-docs/stable/user_guide/indexing.html#returning-a-view-versus-a-copy\n",
      "  This is separate from the ipykernel package so we can avoid doing imports until\n"
     ]
    }
   ],
   "source": [
    "# 분할 후 271B의 승객 수 \n",
    "df_2004_271B = df_2004[df_2004['노선번호']=='271B']\n",
    "df_2004_271B['총 승객수'] = df_2004_271B['승차총승객수']+df_2004_271B['하차총승객수'] \n",
    "print(format(df_2004_271B['총 승객수'].sum(),','))"
   ]
  },
  {
   "cell_type": "code",
   "execution_count": 40,
   "metadata": {},
   "outputs": [
    {
     "name": "stdout",
     "output_type": "stream",
     "text": [
      "1,191,536\n"
     ]
    }
   ],
   "source": [
    "# 271A,B 총 승객수 합\n",
    "print(format(df_2004_271B['총 승객수'].sum()+df_2004_271A['총 승객수'].sum(),','))"
   ]
  },
  {
   "cell_type": "code",
   "execution_count": 46,
   "metadata": {},
   "outputs": [
    {
     "name": "stdout",
     "output_type": "stream",
     "text": [
      "1,480,486\n"
     ]
    },
    {
     "name": "stderr",
     "output_type": "stream",
     "text": [
      "C:\\ProgramData\\Anaconda3\\lib\\site-packages\\ipykernel_launcher.py:4: SettingWithCopyWarning: \n",
      "A value is trying to be set on a copy of a slice from a DataFrame.\n",
      "Try using .loc[row_indexer,col_indexer] = value instead\n",
      "\n",
      "See the caveats in the documentation: https://pandas.pydata.org/pandas-docs/stable/user_guide/indexing.html#returning-a-view-versus-a-copy\n",
      "  after removing the cwd from sys.path.\n"
     ]
    }
   ],
   "source": [
    "# 분할 전 271의 승객 수 \n",
    "df_2002_271 = df_2002[df_2002['노선번호']=='271']\n",
    "df_2002_271['총 승객수'] = df_2002_271['승차총승객수']+df_2002_271['하차총승객수'] \n",
    "print(format(df_2002_271['총 승객수'].sum(),','))"
   ]
  },
  {
   "cell_type": "code",
   "execution_count": 47,
   "metadata": {
    "scrolled": true
   },
   "outputs": [
    {
     "name": "stdout",
     "output_type": "stream",
     "text": [
      "1,881,951\n"
     ]
    },
    {
     "name": "stderr",
     "output_type": "stream",
     "text": [
      "C:\\ProgramData\\Anaconda3\\lib\\site-packages\\ipykernel_launcher.py:3: SettingWithCopyWarning: \n",
      "A value is trying to be set on a copy of a slice from a DataFrame.\n",
      "Try using .loc[row_indexer,col_indexer] = value instead\n",
      "\n",
      "See the caveats in the documentation: https://pandas.pydata.org/pandas-docs/stable/user_guide/indexing.html#returning-a-view-versus-a-copy\n",
      "  This is separate from the ipykernel package so we can avoid doing imports until\n"
     ]
    }
   ],
   "source": [
    "# 분할 전 271의 승객 수 \n",
    "df_1904_271 = df_1904[df_1904['노선번호']=='271']\n",
    "df_1904_271['총 승객수'] = df_1904['승차총승객수']+df_1904['하차총승객수'] \n",
    "print(format(df_1904_271['총 승객수'].sum(),','))"
   ]
  },
  {
   "cell_type": "code",
   "execution_count": 51,
   "metadata": {},
   "outputs": [
    {
     "name": "stderr",
     "output_type": "stream",
     "text": [
      "C:\\ProgramData\\Anaconda3\\lib\\site-packages\\ipykernel_launcher.py:13: SettingWithCopyWarning: \n",
      "A value is trying to be set on a copy of a slice from a DataFrame.\n",
      "Try using .loc[row_indexer,col_indexer] = value instead\n",
      "\n",
      "See the caveats in the documentation: https://pandas.pydata.org/pandas-docs/stable/user_guide/indexing.html#returning-a-view-versus-a-copy\n",
      "  del sys.path[0]\n"
     ]
    },
    {
     "data": {
      "text/html": [
       "<div>\n",
       "<style scoped>\n",
       "    .dataframe tbody tr th:only-of-type {\n",
       "        vertical-align: middle;\n",
       "    }\n",
       "\n",
       "    .dataframe tbody tr th {\n",
       "        vertical-align: top;\n",
       "    }\n",
       "\n",
       "    .dataframe thead th {\n",
       "        text-align: right;\n",
       "    }\n",
       "</style>\n",
       "<table border=\"1\" class=\"dataframe\">\n",
       "  <thead>\n",
       "    <tr style=\"text-align: right;\">\n",
       "      <th></th>\n",
       "      <th>노선번호</th>\n",
       "      <th>승차총승객수</th>\n",
       "      <th>하차총승객수</th>\n",
       "      <th>총 승객수</th>\n",
       "    </tr>\n",
       "  </thead>\n",
       "  <tbody>\n",
       "    <tr>\n",
       "      <th>0</th>\n",
       "      <td>271</td>\n",
       "      <td>957,715</td>\n",
       "      <td>924,236</td>\n",
       "      <td>1,881,951</td>\n",
       "    </tr>\n",
       "    <tr>\n",
       "      <th>1</th>\n",
       "      <td>271</td>\n",
       "      <td>751,346</td>\n",
       "      <td>729,140</td>\n",
       "      <td>1,480,486</td>\n",
       "    </tr>\n",
       "    <tr>\n",
       "      <th>2</th>\n",
       "      <td>271A</td>\n",
       "      <td>475,725</td>\n",
       "      <td>462,081</td>\n",
       "      <td>937,806</td>\n",
       "    </tr>\n",
       "  </tbody>\n",
       "</table>\n",
       "</div>"
      ],
      "text/plain": [
       "   노선번호   승차총승객수   하차총승객수      총 승객수\n",
       "0   271  957,715  924,236  1,881,951\n",
       "1   271  751,346  729,140  1,480,486\n",
       "2  271A  475,725  462,081    937,806"
      ]
     },
     "execution_count": 51,
     "metadata": {},
     "output_type": "execute_result"
    }
   ],
   "source": [
    "yymm =[df_1904,df_2002,df_2004]\n",
    "lists =['271','271','271A']\n",
    "bus_num =[]        # 노선 번호\n",
    "up_pass =[]        # 승차 승객 수 \n",
    "do_pass =[]        # 하차 승객 수\n",
    "agg_pass =[]       # 승,하차 승객 수 \n",
    "\n",
    "# 버스노선 5개에 대하여 노선번호, 승/하차/총 승객 수 dataframe생성 \n",
    "for i,j in zip(yymm,lists):\n",
    "#     print(i)\n",
    "    bus_271 = i[i['노선번호']==j]\n",
    "    bus_num.append(j)\n",
    "    bus_271['총 승객수'] = bus_271['승차총승객수']+bus_271['하차총승객수']\n",
    "    up_pass.append(format(bus_271['승차총승객수'].sum(), \",\"))        # 숫자 단위 보기 쉽게 format사용\n",
    "    do_pass.append(format(bus_271['하차총승객수'].sum(), \",\"))\n",
    "    agg_pass.append(format(bus_271['총 승객수'].sum(), \",\"))\n",
    "\n",
    "da = {\n",
    "   '노선번호': bus_num,\n",
    "    '승차총승객수': up_pass,\n",
    "   '하차총승객수': do_pass,\n",
    "   '총 승객수': agg_pass}\n",
    "bus= pd.DataFrame(data=da)\n",
    "bus"
   ]
  },
  {
   "cell_type": "code",
   "execution_count": 68,
   "metadata": {},
   "outputs": [],
   "source": [
    "df_2005 = pd.read_csv('./data/BUS_STATION_BOARDING_MONTH_202005.csv',low_memory = False,encoding = 'EUC-KR')\n",
    "df_2006 = pd.read_csv('./data/BUS_STATION_BOARDING_MONTH_202006.csv',low_memory = False,encoding = 'EUC-KR')\n",
    "df_2008 = pd.read_csv('./data/BUS_STATION_BOARDING_MONTH_202008.csv',low_memory = False,encoding = 'EUC-KR')\n",
    "df_2009 = pd.read_csv('./data/BUS_STATION_BOARDING_MONTH_202009.csv',low_memory = False,encoding = 'EUC-KR')\n",
    "df_2010 = pd.read_csv('./data/BUS_STATION_BOARDING_MONTH_202010.csv',low_memory = False,encoding = 'EUC-KR')"
   ]
  },
  {
   "cell_type": "code",
   "execution_count": 82,
   "metadata": {},
   "outputs": [
    {
     "name": "stderr",
     "output_type": "stream",
     "text": [
      "C:\\ProgramData\\Anaconda3\\lib\\site-packages\\ipykernel_launcher.py:17: SettingWithCopyWarning: \n",
      "A value is trying to be set on a copy of a slice from a DataFrame.\n",
      "Try using .loc[row_indexer,col_indexer] = value instead\n",
      "\n",
      "See the caveats in the documentation: https://pandas.pydata.org/pandas-docs/stable/user_guide/indexing.html#returning-a-view-versus-a-copy\n"
     ]
    },
    {
     "data": {
      "text/html": [
       "<div>\n",
       "<style scoped>\n",
       "    .dataframe tbody tr th:only-of-type {\n",
       "        vertical-align: middle;\n",
       "    }\n",
       "\n",
       "    .dataframe tbody tr th {\n",
       "        vertical-align: top;\n",
       "    }\n",
       "\n",
       "    .dataframe thead th {\n",
       "        text-align: right;\n",
       "    }\n",
       "</style>\n",
       "<table border=\"1\" class=\"dataframe\">\n",
       "  <thead>\n",
       "    <tr style=\"text-align: right;\">\n",
       "      <th></th>\n",
       "      <th>날짜</th>\n",
       "      <th>노선번호</th>\n",
       "      <th>승차총승객수</th>\n",
       "      <th>하차총승객수</th>\n",
       "      <th>총 승객수</th>\n",
       "    </tr>\n",
       "  </thead>\n",
       "  <tbody>\n",
       "    <tr>\n",
       "      <th>0</th>\n",
       "      <td>1904월</td>\n",
       "      <td>271</td>\n",
       "      <td>957,715</td>\n",
       "      <td>924,236</td>\n",
       "      <td>1881951</td>\n",
       "    </tr>\n",
       "    <tr>\n",
       "      <th>1</th>\n",
       "      <td>20년2월</td>\n",
       "      <td>271</td>\n",
       "      <td>751,346</td>\n",
       "      <td>729,140</td>\n",
       "      <td>1480486</td>\n",
       "    </tr>\n",
       "    <tr>\n",
       "      <th>2</th>\n",
       "      <td>20년4월</td>\n",
       "      <td>271A</td>\n",
       "      <td>475,725</td>\n",
       "      <td>462,081</td>\n",
       "      <td>937806</td>\n",
       "    </tr>\n",
       "    <tr>\n",
       "      <th>3</th>\n",
       "      <td>20년5월</td>\n",
       "      <td>271A</td>\n",
       "      <td>512,565</td>\n",
       "      <td>497,898</td>\n",
       "      <td>1010463</td>\n",
       "    </tr>\n",
       "    <tr>\n",
       "      <th>4</th>\n",
       "      <td>20년6월</td>\n",
       "      <td>271A</td>\n",
       "      <td>517,085</td>\n",
       "      <td>502,067</td>\n",
       "      <td>1019152</td>\n",
       "    </tr>\n",
       "    <tr>\n",
       "      <th>5</th>\n",
       "      <td>20년8월</td>\n",
       "      <td>271A</td>\n",
       "      <td>471,338</td>\n",
       "      <td>457,882</td>\n",
       "      <td>929220</td>\n",
       "    </tr>\n",
       "    <tr>\n",
       "      <th>6</th>\n",
       "      <td>20년9월</td>\n",
       "      <td>271A</td>\n",
       "      <td>455,673</td>\n",
       "      <td>443,130</td>\n",
       "      <td>898803</td>\n",
       "    </tr>\n",
       "  </tbody>\n",
       "</table>\n",
       "</div>"
      ],
      "text/plain": [
       "      날짜  노선번호   승차총승객수   하차총승객수    총 승객수\n",
       "0  1904월   271  957,715  924,236  1881951\n",
       "1  20년2월   271  751,346  729,140  1480486\n",
       "2  20년4월  271A  475,725  462,081   937806\n",
       "3  20년5월  271A  512,565  497,898  1010463\n",
       "4  20년6월  271A  517,085  502,067  1019152\n",
       "5  20년8월  271A  471,338  457,882   929220\n",
       "6  20년9월  271A  455,673  443,130   898803"
      ]
     },
     "execution_count": 82,
     "metadata": {},
     "output_type": "execute_result"
    }
   ],
   "source": [
    "yymm =[df_1904,df_2002,df_2004,df_2005,df_2006,df_2008,df_2009]\n",
    "lists =['271','271','271A','271A','271A','271A','271A']\n",
    "date = ['1904월','20년2월','20년4월','20년5월','20년6월','20년8월','20년9월']\n",
    "# date = [20190401,20200201,20200401,20200501,20200601,20200801,20200901]\n",
    "\n",
    "bus_num =[]        # 노선 번호\n",
    "up_pass =[]        # 승차 승객 수 \n",
    "do_pass =[]        # 하차 승객 수\n",
    "agg_pass =[]       # 승,하차 승객 수 \n",
    "bus_date=[]\n",
    "# 버스노선 5개에 대하여 노선번호, 승/하차/총 승객 수 dataframe생성 \n",
    "for i,j,k in zip(yymm,lists,date):\n",
    "#     print(i)\n",
    "    bus_271 = i[i['노선번호']==j]\n",
    "    bus_num.append(j)\n",
    "    bus_date.append(k)\n",
    "    bus_271['총 승객수'] = bus_271['승차총승객수']+bus_271['하차총승객수']\n",
    "    up_pass.append(format(bus_271['승차총승객수'].sum(), \",\"))        # 숫자 단위 보기 쉽게 format사용\n",
    "    do_pass.append(format(bus_271['하차총승객수'].sum(), \",\"))\n",
    "#     agg_pass.append(format(bus_271['총 승객수'].sum(), \",\"))\n",
    "    agg_pass.append(bus_271['총 승객수'].sum())\n",
    "\n",
    "da = {'날짜' : bus_date,\n",
    "   '노선번호': bus_num,\n",
    "    '승차총승객수': up_pass,\n",
    "   '하차총승객수': do_pass,\n",
    "   '총 승객수': agg_pass}\n",
    "bus= pd.DataFrame(data=da)\n",
    "bus"
   ]
  },
  {
   "cell_type": "code",
   "execution_count": 83,
   "metadata": {},
   "outputs": [
    {
     "data": {
      "text/plain": [
       "<matplotlib.axes._subplots.AxesSubplot at 0x264836504c8>"
      ]
     },
     "execution_count": 83,
     "metadata": {},
     "output_type": "execute_result"
    },
    {
     "data": {
      "image/png": "[encoded data removed]",
      "text/plain": [
       "<Figure size 432x288 with 1 Axes>"
      ]
     },
     "metadata": {
      "image/png": {
       "height": 263,
       "width": 397
      },
      "needs_background": "light"
     },
     "output_type": "display_data"
    }
   ],
   "source": [
    "bus.plot.line(x='날짜',y='총 승객수')"
   ]
  }
 ],
 "metadata": {
  "kernelspec": {
   "display_name": "Python 3",
   "language": "python",
   "name": "python3"
  },
  "language_info": {
   "codemirror_mode": {
    "name": "ipython",
    "version": 3
   },
   "file_extension": ".py",
   "mimetype": "text/x-python",
   "name": "python",
   "nbconvert_exporter": "python",
   "pygments_lexer": "ipython3",
   "version": "3.7.6"
  }
 },
 "nbformat": 4,
 "nbformat_minor": 4
}
